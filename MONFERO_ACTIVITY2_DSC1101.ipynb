{
 "cells": [
  {
   "cell_type": "markdown",
   "id": "ee134c03",
   "metadata": {},
   "source": [
    "# Activity 2\n",
    "\n",
    "## Lists, Tuples, Sets, and Dictionaries\n",
    "\n",
    "> Write a program to manage student grades using lists and dictionaries.\n",
    "\n",
    "> The program should allow user to add students (fname,lname,subject,grade), record their grades for multiple subjects (3 subjects, only display: GED0103, DSC1101, DSC1103), calculate the average, and display the results.\n",
    "\n",
    "> Upload the .py file and screenshot of the simulation."
   ]
  },
  {
   "cell_type": "code",
   "execution_count": null,
   "id": "9d197d8e",
   "metadata": {},
   "outputs": [],
   "source": [
    "# In order to manage student grades, we must declare where the data of the students shall be properly placed\n",
    "\n",
    "# Declare a dictionary variable named \"students\" to store student information\n",
    "student = []\n",
    "\n",
    "# First, we will asks each student about their information\n",
    "def get_student_information():\n",
    "    # Will collect their name\n",
    "    first_name = input(\"Enter student's first name: \")\n",
    "    last_name = input(\"Enter student's last name: \")\n",
    "    # Will collect their grades for subjects GED0103, DSC1101, and DSC1103\n",
    "    grades={}\n",
    "    for subject in [\"GED0103\", \"DSC1101\", \"DSC1103\"]:\n",
    "        subject_grade = float(input(f\"\"\"\n",
    "        Enter subject grade for {subject}: \"\"\"))\n",
    "        grades[subject] = subject_grade\n",
    "    add_student(first_name, last_name, grades)"
   ]
  },
  {
   "cell_type": "raw",
   "id": "711caba1",
   "metadata": {},
   "source": [
    "# Function to add a student and their grades\n",
    "def add_student(fname, lname, grades):\n",
    "    student = {\n",
    "        'fname': fname,\n",
    "        'lname': lname,\n",
    "        'grades': grades,\n",
    "        'average': calculate_average(grades)\n",
    "    }\n",
    "    students.append(student)\n",
    "\n",
    "# Function to calculate the average of the grades\n",
    "def calculate_average(grades):\n",
    "    return sum(grades.values()) / len(grades)\n",
    "\n",
    "# Function to display the students' information\n",
    "def display_students():\n",
    "    for student in students:\n",
    "        print(f\"\\nStudent: {student['fname']} {student['lname']}\")\n",
    "        print(\"Grades:\")\n",
    "        for subject, grade in student['grades'].items():\n",
    "            print(f\"  {subject}: {grade}\")\n",
    "        print(f\"Average Grade: {student['average']:.2f}\")\n",
    "        print(\"-\" * 30)"
   ]
  },
  {
   "cell_type": "code",
   "execution_count": null,
   "id": "eca8a2cb",
   "metadata": {},
   "outputs": [],
   "source": [
    "def main():\n",
    "    while True\n",
    "        get_student_information()\n",
    "        another = input(f\"\"\"\n",
    "        Would you like to add another student's information before displaying?\n",
    "        [Yes/No]\"\"\").strip().lower()\n",
    "        \n",
    "        if another != yes and another != y:\n",
    "            break\n",
    "    display_student_information()\n",
    "\n",
    "# Let us call the function main() where the experiments to gather and display informations will be happened\n",
    "main()"
   ]
  }
 ],
 "metadata": {
  "kernelspec": {
   "display_name": "Python 3 (ipykernel)",
   "language": "python",
   "name": "python3"
  },
  "language_info": {
   "codemirror_mode": {
    "name": "ipython",
    "version": 3
   },
   "file_extension": ".py",
   "mimetype": "text/x-python",
   "name": "python",
   "nbconvert_exporter": "python",
   "pygments_lexer": "ipython3",
   "version": "3.9.13"
  }
 },
 "nbformat": 4,
 "nbformat_minor": 5
}
